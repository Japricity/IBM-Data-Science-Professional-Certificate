{
 "cells": [
  {
   "cell_type": "markdown",
   "metadata": {},
   "source": [
    "<center>\n",
    "    <img src=\"https://cf-courses-data.s3.us.cloud-object-storage.appdomain.cloud/IBMDeveloperSkillsNetwork-DB0201EN-SkillsNetwork/labs/FinalModule_Coursera_V5/images/SN_web_lightmode.png\" width=\"300\" alt=\"cognitiveclass.ai logo\">\n",
    "</center>\n",
    "\n",
    "<h1 align=center><font size = 5>Assignment: Notebook for Graded Assessment</font></h1>\n"
   ]
  },
  {
   "cell_type": "markdown",
   "metadata": {},
   "source": [
    "# Introduction\n",
    "\n",
    "Using this Python notebook you will:\n",
    "\n",
    "1.  Understand three Chicago datasets\n",
    "2.  Load the three datasets into three tables in a SQLIte database\n",
    "3.  Execute SQL queries to answer assignment questions\n"
   ]
  },
  {
   "cell_type": "markdown",
   "metadata": {},
   "source": [
    "## Understand the datasets\n",
    "\n",
    "To complete the assignment problems in this notebook you will be using three datasets that are available on the city of Chicago's Data Portal:\n",
    "\n",
    "1.  <a href=\"https://data.cityofchicago.org/Health-Human-Services/Census-Data-Selected-socioeconomic-indicators-in-C/kn9c-c2s2?utm_medium=Exinfluencer&utm_source=Exinfluencer&utm_content=000026UJ&utm_term=10006555&utm_id=NA-SkillsNetwork-Channel-SkillsNetworkCoursesIBMDeveloperSkillsNetworkDB0201ENSkillsNetwork20127838-2021-01-01\">Socioeconomic Indicators in Chicago</a>\n",
    "2.  <a href=\"https://data.cityofchicago.org/Education/Chicago-Public-Schools-Progress-Report-Cards-2011-/9xs2-f89t?utm_medium=Exinfluencer&utm_source=Exinfluencer&utm_content=000026UJ&utm_term=10006555&utm_id=NA-SkillsNetwork-Channel-SkillsNetworkCoursesIBMDeveloperSkillsNetworkDB0201ENSkillsNetwork20127838-2021-01-01\">Chicago Public Schools</a>\n",
    "3.  <a href=\"https://data.cityofchicago.org/Public-Safety/Crimes-2001-to-present/ijzp-q8t2?utm_medium=Exinfluencer&utm_source=Exinfluencer&utm_content=000026UJ&utm_term=10006555&utm_id=NA-SkillsNetwork-Channel-SkillsNetworkCoursesIBMDeveloperSkillsNetworkDB0201ENSkillsNetwork20127838-2021-01-01\">Chicago Crime Data</a>\n",
    "\n",
    "### 1. Socioeconomic Indicators in Chicago\n",
    "\n",
    "This dataset contains a selection of six socioeconomic indicators of public health significance and a “hardship index,” for each Chicago community area, for the years 2008 – 2012.\n",
    "\n",
    "A detailed description of this dataset and the original dataset can be obtained from the Chicago Data Portal at:\n",
    "\n",
    "[https://data.cityofchicago.org/Health-Human-Services/Census-Data-Selected-socioeconomic-indicators-in-C/kn9c-c2s2](https://data.cityofchicago.org/Health-Human-Services/Census-Data-Selected-socioeconomic-indicators-in-C/kn9c-c2s2?utm_medium=Exinfluencer&utm_source=Exinfluencer&utm_content=000026UJ&utm_term=10006555&utm_id=NA-SkillsNetwork-Channel-SkillsNetworkCoursesIBMDeveloperSkillsNetworkDB0201ENSkillsNetwork20127838-2021-01-01&cm_mmc=Email_Newsletter-\\_-Developer_Ed%2BTech-\\_-WW_WW-\\_-SkillsNetwork-Courses-IBMDeveloperSkillsNetwork-DB0201EN-SkillsNetwork-20127838&cm_mmca1=000026UJ&cm_mmca2=10006555&cm_mmca3=M12345678&cvosrc=email.Newsletter.M12345678&cvo_campaign=000026UJ)\n",
    "\n",
    "### 2. Chicago Public Schools\n",
    "\n",
    "This dataset shows all school level performance data used to create CPS School Report Cards for the 2011-2012 school year. This dataset is provided by the city of Chicago's Data Portal.\n",
    "\n",
    "A detailed description of this dataset and the original dataset can be obtained from the Chicago Data Portal at:\n",
    "\n",
    "[https://data.cityofchicago.org/Education/Chicago-Public-Schools-Progress-Report-Cards-2011-/9xs2-f89t](https://data.cityofchicago.org/Education/Chicago-Public-Schools-Progress-Report-Cards-2011-/9xs2-f89t?utm_medium=Exinfluencer&utm_source=Exinfluencer&utm_content=000026UJ&utm_term=10006555&utm_id=NA-SkillsNetwork-Channel-SkillsNetworkCoursesIBMDeveloperSkillsNetworkDB0201ENSkillsNetwork20127838-2021-01-01&cm_mmc=Email_Newsletter-\\_-Developer_Ed%2BTech-\\_-WW_WW-\\_-SkillsNetwork-Courses-IBMDeveloperSkillsNetwork-DB0201EN-SkillsNetwork-20127838&cm_mmca1=000026UJ&cm_mmca2=10006555&cm_mmca3=M12345678&cvosrc=email.Newsletter.M12345678&cvo_campaign=000026UJ)\n",
    "\n",
    "### 3. Chicago Crime Data\n",
    "\n",
    "This dataset reflects reported incidents of crime (with the exception of murders where data exists for each victim) that occurred in the City of Chicago from 2001 to present, minus the most recent seven days.\n",
    "\n",
    "A detailed description of this dataset and the original dataset can be obtained from the Chicago Data Portal at:\n",
    "\n",
    "[https://data.cityofchicago.org/Public-Safety/Crimes-2001-to-present/ijzp-q8t2](https://data.cityofchicago.org/Public-Safety/Crimes-2001-to-present/ijzp-q8t2?utm_medium=Exinfluencer&utm_source=Exinfluencer&utm_content=000026UJ&utm_term=10006555&utm_id=NA-SkillsNetwork-Channel-SkillsNetworkCoursesIBMDeveloperSkillsNetworkDB0201ENSkillsNetwork20127838-2021-01-01&cm_mmc=Email_Newsletter-\\_-Developer_Ed%2BTech-\\_-WW_WW-\\_-SkillsNetwork-Courses-IBMDeveloperSkillsNetwork-DB0201EN-SkillsNetwork-20127838&cm_mmca1=000026UJ&cm_mmca2=10006555&cm_mmca3=M12345678&cvosrc=email.Newsletter.M12345678&cvo_campaign=000026UJ)\n"
   ]
  },
  {
   "cell_type": "markdown",
   "metadata": {},
   "source": [
    "### Download the datasets\n",
    "\n",
    "This assignment requires you to have these three tables populated with a subset of the whole datasets.\n",
    "\n",
    "In many cases the dataset to be analyzed is available as a .CSV (comma separated values) file, perhaps on the internet. \n",
    "\n",
    "Use the links below to read the data files using the Pandas library. \n",
    "\n",
    "* Chicago Census Data\n",
    "\n",
    "https://cf-courses-data.s3.us.cloud-object-storage.appdomain.cloud/IBMDeveloperSkillsNetwork-DB0201EN-SkillsNetwork/labs/FinalModule_Coursera_V5/data/ChicagoCensusData.csv?utm_medium=Exinfluencer&utm_source=Exinfluencer&utm_content=000026UJ&utm_term=10006555&utm_id=NA-SkillsNetwork-Channel-SkillsNetworkCoursesIBMDeveloperSkillsNetworkDB0201ENSkillsNetwork20127838-2021-01-01\n",
    "\n",
    "* Chicago Public Schools\n",
    "\n",
    "https://cf-courses-data.s3.us.cloud-object-storage.appdomain.cloud/IBMDeveloperSkillsNetwork-DB0201EN-SkillsNetwork/labs/FinalModule_Coursera_V5/data/ChicagoPublicSchools.csv?utm_medium=Exinfluencer&utm_source=Exinfluencer&utm_content=000026UJ&utm_term=10006555&utm_id=NA-SkillsNetwork-Channel-SkillsNetworkCoursesIBMDeveloperSkillsNetworkDB0201ENSkillsNetwork20127838-2021-01-01\n",
    "\n",
    "* Chicago Crime Data\n",
    "\n",
    "https://cf-courses-data.s3.us.cloud-object-storage.appdomain.cloud/IBMDeveloperSkillsNetwork-DB0201EN-SkillsNetwork/labs/FinalModule_Coursera_V5/data/ChicagoCrimeData.csv?utm_medium=Exinfluencer&utm_source=Exinfluencer&utm_content=000026UJ&utm_term=10006555&utm_id=NA-SkillsNetwork-Channel-SkillsNetworkCoursesIBMDeveloperSkillsNetworkDB0201ENSkillsNetwork20127838-2021-01-01\n",
    "\n",
    "**NOTE:** Ensure you use the datasets available on the links above instead of directly from the Chicago Data Portal. The versions linked here are subsets of the original datasets and have some of the column names modified to be more database friendly which will make it easier to complete this assignment.\n"
   ]
  },
  {
   "cell_type": "markdown",
   "metadata": {},
   "source": [
    "### Store the datasets in database tables\n",
    "\n",
    "To analyze the data using SQL, it first needs to be loaded into SQLite DB.\n",
    "We will create three tables in as under:\n",
    "\n",
    "1.  **CENSUS_DATA**\n",
    "2.  **CHICAGO_PUBLIC_SCHOOLS**\n",
    "3.  **CHICAGO_CRIME_DATA**\n"
   ]
  },
  {
   "cell_type": "markdown",
   "metadata": {},
   "source": [
    "Load the `pandas` and `sqlite3` libraries and establish a connection to `FinalDB.db`\n"
   ]
  },
  {
   "cell_type": "code",
   "execution_count": 7,
   "metadata": {
    "tags": []
   },
   "outputs": [],
   "source": [
    "import csv, sqlite3\n",
    "import pandas as pd"
   ]
  },
  {
   "cell_type": "markdown",
   "metadata": {},
   "source": [
    "Load the SQL magic module\n"
   ]
  },
  {
   "cell_type": "code",
   "execution_count": 8,
   "metadata": {
    "tags": []
   },
   "outputs": [
    {
     "name": "stdout",
     "output_type": "stream",
     "text": [
      "The sql extension is already loaded. To reload it, use:\n",
      "  %reload_ext sql\n"
     ]
    }
   ],
   "source": [
    "%load_ext sql\n",
    "!pip install -q pandas==1.1.5"
   ]
  },
  {
   "cell_type": "code",
   "execution_count": 23,
   "metadata": {
    "tags": []
   },
   "outputs": [
    {
     "name": "stdout",
     "output_type": "stream",
     "text": [
      "Requirement already satisfied: pandas in /home/jupyterlab/conda/envs/python/lib/python3.7/site-packages (1.1.5)\n",
      "Requirement already satisfied: python-dateutil>=2.7.3 in /home/jupyterlab/conda/envs/python/lib/python3.7/site-packages (from pandas) (2.8.2)\n",
      "Requirement already satisfied: pytz>=2017.2 in /home/jupyterlab/conda/envs/python/lib/python3.7/site-packages (from pandas) (2023.3)\n",
      "Requirement already satisfied: numpy>=1.15.4 in /home/jupyterlab/conda/envs/python/lib/python3.7/site-packages (from pandas) (1.21.6)\n",
      "Requirement already satisfied: six>=1.5 in /home/jupyterlab/conda/envs/python/lib/python3.7/site-packages (from python-dateutil>=2.7.3->pandas) (1.16.0)\n"
     ]
    }
   ],
   "source": [
    "!pip install pandas"
   ]
  },
  {
   "cell_type": "markdown",
   "metadata": {},
   "source": [
    "Use `Pandas` to load the data available in the links above to dataframes. Use these dataframes to load data on to the database `FinalDB.db` as required tables.\n"
   ]
  },
  {
   "cell_type": "code",
   "execution_count": 71,
   "metadata": {
    "tags": []
   },
   "outputs": [
    {
     "name": "stderr",
     "output_type": "stream",
     "text": [
      "/home/jupyterlab/conda/envs/python/lib/python3.7/site-packages/pandas/core/generic.py:2882: UserWarning: The spaces in these column names will not be changed. In pandas versions < 0.14, spaces were converted to underscores.\n",
      "  both result in 0.1234 being formatted as 0.12.\n"
     ]
    }
   ],
   "source": [
    "con = sqlite3.connect(\"FinalDB.db\")\n",
    "cur = con.cursor()\n",
    "\n",
    "cencus_data_df = pd.read_csv(\"https://cf-courses-data.s3.us.cloud-object-storage.appdomain.cloud/IBMDeveloperSkillsNetwork-DB0201EN-SkillsNetwork/labs/FinalModule_Coursera_V5/data/ChicagoCensusData.csv\")\n",
    "cencus_data_df.to_sql(\"CENSUS_DATA\", con, if_exists='replace', index=False,method=\"multi\")\n",
    "\n",
    "\n",
    "crime_df = pd.read_csv(\"https://cf-courses-data.s3.us.cloud-object-storage.appdomain.cloud/IBMDeveloperSkillsNetwork-DB0201EN-SkillsNetwork/labs/FinalModule_Coursera_V5/data/ChicagoCrimeData.csv\")\n",
    "crime_df.to_sql(\"CHICAGO_CRIME_DATA\", con, if_exists='replace', index=False, method=\"multi\")\n",
    "\n",
    "school_df = pd.read_csv(\"https://cf-courses-data.s3.us.cloud-object-storage.appdomain.cloud/IBMDeveloperSkillsNetwork-DB0201EN-SkillsNetwork/labs/FinalModule_Coursera_V5/data/ChicagoPublicSchools.csv\")\n",
    "school_df.to_sql(\"CHICAGO_PUBLIC_SCHOOLS_DATA\", con, if_exists='replace', index=False, method=\"multi\")"
   ]
  },
  {
   "cell_type": "code",
   "execution_count": 46,
   "metadata": {
    "tags": []
   },
   "outputs": [
    {
     "name": "stdout",
     "output_type": "stream",
     "text": [
      "cencus_data_df:\n",
      "\n",
      "<class 'pandas.core.frame.DataFrame'>\n",
      "RangeIndex: 78 entries, 0 to 77\n",
      "Data columns (total 9 columns):\n",
      " #   Column                                        Non-Null Count  Dtype  \n",
      "---  ------                                        --------------  -----  \n",
      " 0   COMMUNITY_AREA_NUMBER                         77 non-null     float64\n",
      " 1   COMMUNITY_AREA_NAME                           78 non-null     object \n",
      " 2   PERCENT_OF_HOUSING_CROWDED                    78 non-null     float64\n",
      " 3   PERCENT_HOUSEHOLDS_BELOW_POVERTY              78 non-null     float64\n",
      " 4   PERCENT_AGED_16__UNEMPLOYED                   78 non-null     float64\n",
      " 5   PERCENT_AGED_25__WITHOUT_HIGH_SCHOOL_DIPLOMA  78 non-null     float64\n",
      " 6   PERCENT_AGED_UNDER_18_OR_OVER_64              78 non-null     float64\n",
      " 7   PER_CAPITA_INCOME                             78 non-null     int64  \n",
      " 8   HARDSHIP_INDEX                                77 non-null     float64\n",
      "dtypes: float64(7), int64(1), object(1)\n",
      "memory usage: 5.6+ KB\n",
      "None\n",
      "########################################################################################################################\n",
      "crime_df:\n",
      "\n",
      "<class 'pandas.core.frame.DataFrame'>\n",
      "RangeIndex: 533 entries, 0 to 532\n",
      "Data columns (total 21 columns):\n",
      " #   Column                 Non-Null Count  Dtype  \n",
      "---  ------                 --------------  -----  \n",
      " 0   ID                     533 non-null    int64  \n",
      " 1   CASE_NUMBER            533 non-null    object \n",
      " 2   DATE                   533 non-null    object \n",
      " 3   BLOCK                  533 non-null    object \n",
      " 4   IUCR                   533 non-null    object \n",
      " 5   PRIMARY_TYPE           533 non-null    object \n",
      " 6   DESCRIPTION            533 non-null    object \n",
      " 7   LOCATION_DESCRIPTION   533 non-null    object \n",
      " 8   ARREST                 533 non-null    bool   \n",
      " 9   DOMESTIC               533 non-null    bool   \n",
      " 10  BEAT                   533 non-null    int64  \n",
      " 11  DISTRICT               533 non-null    int64  \n",
      " 12  WARD                   490 non-null    float64\n",
      " 13  COMMUNITY_AREA_NUMBER  490 non-null    float64\n",
      " 14  FBICODE                533 non-null    object \n",
      " 15  X_COORDINATE           529 non-null    float64\n",
      " 16  Y_COORDINATE           529 non-null    float64\n",
      " 17  YEAR                   533 non-null    int64  \n",
      " 18  LATITUDE               529 non-null    float64\n",
      " 19  LONGITUDE              529 non-null    float64\n",
      " 20  LOCATION               529 non-null    object \n",
      "dtypes: bool(2), float64(6), int64(4), object(9)\n",
      "memory usage: 80.3+ KB\n",
      "None\n",
      "########################################################################################################################\n",
      "school_df:\n",
      "\n",
      "<class 'pandas.core.frame.DataFrame'>\n",
      "RangeIndex: 566 entries, 0 to 565\n",
      "Data columns (total 78 columns):\n",
      " #   Column                                            Non-Null Count  Dtype  \n",
      "---  ------                                            --------------  -----  \n",
      " 0   School_ID                                         566 non-null    int64  \n",
      " 1   NAME_OF_SCHOOL                                    566 non-null    object \n",
      " 2   Elementary, Middle, or High School                566 non-null    object \n",
      " 3   Street_Address                                    566 non-null    object \n",
      " 4   City                                              566 non-null    object \n",
      " 5   State                                             566 non-null    object \n",
      " 6   ZIP_Code                                          566 non-null    int64  \n",
      " 7   Phone_Number                                      566 non-null    object \n",
      " 8   Link                                              565 non-null    object \n",
      " 9   Network_Manager                                   566 non-null    object \n",
      " 10  Collaborative_Name                                566 non-null    object \n",
      " 11  Adequate_Yearly_Progress_Made_                    566 non-null    object \n",
      " 12  Track_Schedule                                    566 non-null    object \n",
      " 13  CPS_Performance_Policy_Status                     566 non-null    object \n",
      " 14  CPS_Performance_Policy_Level                      566 non-null    object \n",
      " 15  HEALTHY_SCHOOL_CERTIFIED                          566 non-null    object \n",
      " 16  Safety_Icon                                       566 non-null    object \n",
      " 17  SAFETY_SCORE                                      513 non-null    float64\n",
      " 18  Family_Involvement_Icon                           566 non-null    object \n",
      " 19  Family_Involvement_Score                          566 non-null    object \n",
      " 20  Environment_Icon                                  566 non-null    object \n",
      " 21  Environment_Score                                 513 non-null    float64\n",
      " 22  Instruction_Icon                                  566 non-null    object \n",
      " 23  Instruction_Score                                 513 non-null    float64\n",
      " 24  Leaders_Icon                                      566 non-null    object \n",
      " 25  Leaders_Score                                     566 non-null    object \n",
      " 26  Teachers_Icon                                     566 non-null    object \n",
      " 27  Teachers_Score                                    566 non-null    object \n",
      " 28  Parent_Engagement_Icon                            566 non-null    object \n",
      " 29  Parent_Engagement_Score                           566 non-null    object \n",
      " 30  Parent_Environment_Icon                           566 non-null    object \n",
      " 31  Parent_Environment_Score                          566 non-null    object \n",
      " 32  AVERAGE_STUDENT_ATTENDANCE                        565 non-null    object \n",
      " 33  Rate_of_Misconducts__per_100_students_            566 non-null    float64\n",
      " 34  Average_Teacher_Attendance                        566 non-null    object \n",
      " 35  Individualized_Education_Program_Compliance_Rate  566 non-null    object \n",
      " 36  Pk_2_Literacy__                                   566 non-null    object \n",
      " 37  Pk_2_Math__                                       566 non-null    object \n",
      " 38  Gr3_5_Grade_Level_Math__                          566 non-null    object \n",
      " 39  Gr3_5_Grade_Level_Read__                          566 non-null    object \n",
      " 40  Gr3_5_Keep_Pace_Read__                            566 non-null    object \n",
      " 41  Gr3_5_Keep_Pace_Math__                            566 non-null    object \n",
      " 42  Gr6_8_Grade_Level_Math__                          566 non-null    object \n",
      " 43  Gr6_8_Grade_Level_Read__                          566 non-null    object \n",
      " 44  Gr6_8_Keep_Pace_Math_                             566 non-null    object \n",
      " 45  Gr6_8_Keep_Pace_Read__                            566 non-null    object \n",
      " 46  Gr_8_Explore_Math__                               566 non-null    object \n",
      " 47  Gr_8_Explore_Read__                               566 non-null    object \n",
      " 48  ISAT_Exceeding_Math__                             476 non-null    float64\n",
      " 49  ISAT_Exceeding_Reading__                          476 non-null    float64\n",
      " 50  ISAT_Value_Add_Math                               468 non-null    float64\n",
      " 51  ISAT_Value_Add_Read                               468 non-null    float64\n",
      " 52  ISAT_Value_Add_Color_Math                         566 non-null    object \n",
      " 53  ISAT_Value_Add_Color_Read                         566 non-null    object \n",
      " 54  Students_Taking__Algebra__                        566 non-null    object \n",
      " 55  Students_Passing__Algebra__                       566 non-null    object \n",
      " 56  9th Grade EXPLORE (2009)                          566 non-null    object \n",
      " 57  9th Grade EXPLORE (2010)                          566 non-null    object \n",
      " 58  10th Grade PLAN (2009)                            566 non-null    object \n",
      " 59  10th Grade PLAN (2010)                            566 non-null    object \n",
      " 60  Net_Change_EXPLORE_and_PLAN                       566 non-null    object \n",
      " 61  11th Grade Average ACT (2011)                     566 non-null    object \n",
      " 62  Net_Change_PLAN_and_ACT                           566 non-null    object \n",
      " 63  College_Eligibility__                             566 non-null    object \n",
      " 64  Graduation_Rate__                                 566 non-null    object \n",
      " 65  College_Enrollment_Rate__                         566 non-null    object \n",
      " 66  COLLEGE_ENROLLMENT                                566 non-null    int64  \n",
      " 67  General_Services_Route                            566 non-null    int64  \n",
      " 68  Freshman_on_Track_Rate__                          566 non-null    object \n",
      " 69  X_COORDINATE                                      566 non-null    float64\n",
      " 70  Y_COORDINATE                                      566 non-null    float64\n",
      " 71  Latitude                                          566 non-null    float64\n",
      " 72  Longitude                                         566 non-null    float64\n",
      " 73  COMMUNITY_AREA_NUMBER                             566 non-null    int64  \n",
      " 74  COMMUNITY_AREA_NAME                               566 non-null    object \n",
      " 75  Ward                                              566 non-null    int64  \n",
      " 76  Police_District                                   566 non-null    int64  \n",
      " 77  Location                                          566 non-null    object \n",
      "dtypes: float64(12), int64(7), object(59)\n",
      "memory usage: 345.0+ KB\n",
      "None\n"
     ]
    }
   ],
   "source": [
    "print(\"cencus_data_df:\\n\")\n",
    "print(cencus_data_df.info())\n",
    "print(30*\"####\")\n",
    "print(\"crime_df:\\n\")\n",
    "print(crime_df.info())\n",
    "print(30*\"####\")\n",
    "print(\"school_df:\\n\")\n",
    "print(school_df.info())"
   ]
  },
  {
   "cell_type": "markdown",
   "metadata": {},
   "source": [
    "Establish a connection between SQL magic module and the database `FinalDB.db`\n"
   ]
  },
  {
   "cell_type": "code",
   "execution_count": 4,
   "metadata": {
    "tags": []
   },
   "outputs": [
    {
     "data": {
      "text/plain": [
       "'Connected: @FinalDB.db'"
      ]
     },
     "execution_count": 4,
     "metadata": {},
     "output_type": "execute_result"
    }
   ],
   "source": [
    "%sql sqlite:///FinalDB.db"
   ]
  },
  {
   "cell_type": "code",
   "execution_count": 33,
   "metadata": {
    "tags": []
   },
   "outputs": [],
   "source": [
    "#%sql select * from CHICAGO_CRIME_DATA"
   ]
  },
  {
   "cell_type": "markdown",
   "metadata": {},
   "source": [
    "You can now proceed to the the following questions. Please note that a graded assignment will follow this lab and there will be a question on each of the problems stated below. It can be from the answer you received or the code you write for this problem. Therefore, please keep a note of both your codes as well as the response you generate.\n"
   ]
  },
  {
   "cell_type": "markdown",
   "metadata": {},
   "source": [
    "## Problems\n",
    "\n",
    "Now write and execute SQL queries to solve assignment problems\n",
    "\n",
    "### Problem 1\n",
    "\n",
    "##### Find the total number of crimes recorded in the CRIME table.\n"
   ]
  },
  {
   "cell_type": "code",
   "execution_count": 47,
   "metadata": {
    "tags": []
   },
   "outputs": [
    {
     "name": "stdout",
     "output_type": "stream",
     "text": [
      "Total number of crimes recorded: 533\n"
     ]
    }
   ],
   "source": [
    "total_crimes = len(crime_df)\n",
    "print(\"Total number of crimes recorded:\", total_crimes)"
   ]
  },
  {
   "cell_type": "markdown",
   "metadata": {},
   "source": [
    "### Problem 2\n",
    "\n",
    "##### List community area names and numbers with per capita income less than 11000.\n"
   ]
  },
  {
   "cell_type": "code",
   "execution_count": 49,
   "metadata": {
    "tags": []
   },
   "outputs": [
    {
     "name": "stdout",
     "output_type": "stream",
     "text": [
      "    COMMUNITY_AREA_NUMBER COMMUNITY_AREA_NAME\n",
      "25                   26.0  West Garfield Park\n",
      "29                   30.0      South Lawndale\n",
      "36                   37.0         Fuller Park\n",
      "53                   54.0           Riverdale\n"
     ]
    }
   ],
   "source": [
    "low_income_areas = cencus_data_df[cencus_data_df['PER_CAPITA_INCOME'] < 11000][['COMMUNITY_AREA_NUMBER', 'COMMUNITY_AREA_NAME']]\n",
    "print(low_income_areas)"
   ]
  },
  {
   "cell_type": "markdown",
   "metadata": {},
   "source": [
    "### Problem 3\n",
    "\n",
    "##### List all case numbers for crimes involving minors?(children are not considered minors for the purposes of crime analysis) \n"
   ]
  },
  {
   "cell_type": "code",
   "execution_count": null,
   "metadata": {},
   "outputs": [],
   "source": [
    "school_df"
   ]
  },
  {
   "cell_type": "markdown",
   "metadata": {},
   "source": [
    "### Problem 4\n",
    "\n",
    "##### List all kidnapping crimes involving a child?\n"
   ]
  },
  {
   "cell_type": "code",
   "execution_count": null,
   "metadata": {},
   "outputs": [],
   "source": []
  },
  {
   "cell_type": "markdown",
   "metadata": {},
   "source": [
    "### Problem 5\n",
    "\n",
    "##### List the kind of crimes that were recorded at schools. (No repetitions)\n"
   ]
  },
  {
   "cell_type": "code",
   "execution_count": null,
   "metadata": {},
   "outputs": [],
   "source": []
  },
  {
   "cell_type": "markdown",
   "metadata": {},
   "source": [
    "### Problem 6\n",
    "\n",
    "##### List the type of schools along with the average safety score for each type.\n"
   ]
  },
  {
   "cell_type": "code",
   "execution_count": 52,
   "metadata": {
    "tags": []
   },
   "outputs": [
    {
     "data": {
      "text/plain": [
       "array(['ES', 'HS', 'MS'], dtype=object)"
      ]
     },
     "execution_count": 52,
     "metadata": {},
     "output_type": "execute_result"
    }
   ],
   "source": [
    "school_df['Elementary, Middle, or High School'].unique()"
   ]
  },
  {
   "cell_type": "code",
   "execution_count": 53,
   "metadata": {
    "tags": []
   },
   "outputs": [],
   "source": [
    "average_safety_scores = school_df.groupby('Elementary, Middle, or High School')['SAFETY_SCORE'].mean().reset_index()\n",
    "\n",
    "average_safety_scores.columns = ['School Type', 'Average Safety Score']"
   ]
  },
  {
   "cell_type": "code",
   "execution_count": 55,
   "metadata": {
    "tags": []
   },
   "outputs": [
    {
     "data": {
      "text/html": [
       "<div>\n",
       "<style scoped>\n",
       "    .dataframe tbody tr th:only-of-type {\n",
       "        vertical-align: middle;\n",
       "    }\n",
       "\n",
       "    .dataframe tbody tr th {\n",
       "        vertical-align: top;\n",
       "    }\n",
       "\n",
       "    .dataframe thead th {\n",
       "        text-align: right;\n",
       "    }\n",
       "</style>\n",
       "<table border=\"1\" class=\"dataframe\">\n",
       "  <thead>\n",
       "    <tr style=\"text-align: right;\">\n",
       "      <th></th>\n",
       "      <th>School Type</th>\n",
       "      <th>Average Safety Score</th>\n",
       "    </tr>\n",
       "  </thead>\n",
       "  <tbody>\n",
       "    <tr>\n",
       "      <th>2</th>\n",
       "      <td>MS</td>\n",
       "      <td>48.0</td>\n",
       "    </tr>\n",
       "  </tbody>\n",
       "</table>\n",
       "</div>"
      ],
      "text/plain": [
       "  School Type  Average Safety Score\n",
       "2          MS                  48.0"
      ]
     },
     "execution_count": 55,
     "metadata": {},
     "output_type": "execute_result"
    }
   ],
   "source": [
    "average_safety_scores[average_safety_scores['School Type'] == 'MS']"
   ]
  },
  {
   "cell_type": "code",
   "execution_count": 54,
   "metadata": {
    "tags": []
   },
   "outputs": [
    {
     "name": "stdout",
     "output_type": "stream",
     "text": [
      "  School Type  Average Safety Score\n",
      "0          ES             49.520384\n",
      "1          HS             49.623529\n",
      "2          MS             48.000000\n"
     ]
    }
   ],
   "source": [
    "print(average_safety_scores)"
   ]
  },
  {
   "cell_type": "markdown",
   "metadata": {},
   "source": [
    "### Problem 7\n",
    "\n",
    "##### List 5 community areas with highest % of households below poverty line\n"
   ]
  },
  {
   "cell_type": "code",
   "execution_count": null,
   "metadata": {},
   "outputs": [],
   "source": []
  },
  {
   "cell_type": "markdown",
   "metadata": {},
   "source": [
    "### Problem 8\n",
    "\n",
    "##### Which community area is most crime prone? Display the coumminty area number only.\n"
   ]
  },
  {
   "cell_type": "code",
   "execution_count": 65,
   "metadata": {
    "tags": []
   },
   "outputs": [
    {
     "data": {
      "text/plain": [
       "array([58., 23., 38., 46., 66., 24., 14., 72., 21., 65., 28., 49., 26.,\n",
       "       22., 48., 44., 25.,  8., 32., 69., 59., 68., 76., 73., 35.,  6.,\n",
       "       nan, 30., 43., 31.,  5., 42., 29.,  7., 67., 39., 77., 61.,  2.,\n",
       "       63., 64., 62., 75.,  1., 15., 71., 16., 50., 56., 51.,  4., 27.,\n",
       "       19., 37., 70., 54., 60., 10., 41., 52., 53., 11., 18., 17., 47.,\n",
       "       55.,  3., 45., 33., 20., 12.])"
      ]
     },
     "execution_count": 65,
     "metadata": {},
     "output_type": "execute_result"
    }
   ],
   "source": [
    "crime_df.COMMUNITY_AREA_NUMBER.unique()"
   ]
  },
  {
   "cell_type": "code",
   "execution_count": 58,
   "metadata": {
    "tags": []
   },
   "outputs": [
    {
     "name": "stdout",
     "output_type": "stream",
     "text": [
      "The most crime-prone community area number is: 25.0\n"
     ]
    }
   ],
   "source": [
    "# Counting the number of crimes in each community area\n",
    "crime_counts = crime_df['COMMUNITY_AREA_NUMBER'].value_counts()\n",
    "\n",
    "# Finding the community area with the highest number of crimes\n",
    "most_crime_prone_area_number = crime_counts.idxmax()\n",
    "\n",
    "print(f\"The most crime-prone community area number is: {most_crime_prone_area_number}\")"
   ]
  },
  {
   "cell_type": "code",
   "execution_count": 67,
   "metadata": {
    "tags": []
   },
   "outputs": [
    {
     "data": {
      "text/plain": [
       "25.0    43\n",
       "23.0    22\n",
       "68.0    21\n",
       "28.0    16\n",
       "29.0    16\n",
       "Name: COMMUNITY_AREA_NUMBER, dtype: int64"
      ]
     },
     "execution_count": 67,
     "metadata": {},
     "output_type": "execute_result"
    }
   ],
   "source": [
    "## check again\n",
    "crime_counts.head(5)"
   ]
  },
  {
   "cell_type": "markdown",
   "metadata": {},
   "source": [
    "\n",
    "Double-click **here** for a hint\n",
    "\n",
    "<!--\n",
    "Query for the 'community area number' that has most number of incidents\n",
    "-->\n"
   ]
  },
  {
   "cell_type": "markdown",
   "metadata": {},
   "source": [
    "### Problem 9\n",
    "\n",
    "##### Use a sub-query to find the name of the community area with highest hardship index\n"
   ]
  },
  {
   "cell_type": "code",
   "execution_count": null,
   "metadata": {},
   "outputs": [],
   "source": []
  },
  {
   "cell_type": "markdown",
   "metadata": {
    "tags": []
   },
   "source": [
    "### Problem 10\n",
    "\n",
    "##### Use a sub-query to determine the Community Area Name with most number of crimes?\n"
   ]
  },
  {
   "cell_type": "code",
   "execution_count": 73,
   "metadata": {
    "tags": []
   },
   "outputs": [
    {
     "name": "stdout",
     "output_type": "stream",
     "text": [
      "The Community Area with the most crimes is: Austin (25.0) with 43.0 crimes.\n"
     ]
    }
   ],
   "source": [
    "import pandas as pd\n",
    "\n",
    "# Assuming crime_df is loaded as shown earlier\n",
    "# Count crimes per community area\n",
    "crime_counts = crime_df['COMMUNITY_AREA_NUMBER'].value_counts().reset_index()\n",
    "crime_counts.columns = ['COMMUNITY_AREA_NUMBER', 'NUMBER_OF_CRIMES']\n",
    "\n",
    "# Get the community area with the most crimes\n",
    "most_crimes = crime_counts.loc[crime_counts['NUMBER_OF_CRIMES'].idxmax()]\n",
    "\n",
    "# Using the number to get the community area name from census_data_df (assuming it includes community area names)\n",
    "most_crime_area_name = cencus_data_df.loc[cencus_data_df['COMMUNITY_AREA_NUMBER'] == most_crimes['COMMUNITY_AREA_NUMBER'], 'COMMUNITY_AREA_NAME'].iloc[0]\n",
    "\n",
    "print(f\"The Community Area with the most crimes is: {most_crime_area_name} ({most_crimes['COMMUNITY_AREA_NUMBER']}) with {most_crimes['NUMBER_OF_CRIMES']} crimes.\")\n"
   ]
  },
  {
   "cell_type": "code",
   "execution_count": 74,
   "metadata": {
    "tags": []
   },
   "outputs": [],
   "source": [
    "crime_counts = crime_df['COMMUNITY_AREA_NUMBER'].value_counts().reset_index()\n",
    "crime_counts.columns = ['COMMUNITY_AREA_NUMBER', 'NUMBER_OF_CRIMES']"
   ]
  },
  {
   "cell_type": "code",
   "execution_count": 75,
   "metadata": {
    "tags": []
   },
   "outputs": [],
   "source": [
    "most_crimes = crime_counts.loc[crime_counts['NUMBER_OF_CRIMES'].idxmax()]"
   ]
  },
  {
   "cell_type": "code",
   "execution_count": 76,
   "metadata": {
    "tags": []
   },
   "outputs": [],
   "source": [
    "most_crime_area_name = cencus_data_df.loc[cencus_data_df['COMMUNITY_AREA_NUMBER'] == most_crimes['COMMUNITY_AREA_NUMBER'], 'COMMUNITY_AREA_NAME'].iloc[0]"
   ]
  },
  {
   "cell_type": "code",
   "execution_count": 77,
   "metadata": {
    "tags": []
   },
   "outputs": [
    {
     "name": "stdout",
     "output_type": "stream",
     "text": [
      "The Community Area with the most crimes is: Austin (25.0) with 43.0 crimes.\n"
     ]
    }
   ],
   "source": [
    "print(f\"The Community Area with the most crimes is: {most_crime_area_name} ({most_crimes['COMMUNITY_AREA_NUMBER']}) with {most_crimes['NUMBER_OF_CRIMES']} crimes.\")"
   ]
  },
  {
   "cell_type": "code",
   "execution_count": 79,
   "metadata": {
    "tags": []
   },
   "outputs": [
    {
     "data": {
      "text/plain": [
       "'Connected: @FinalDB.db'"
      ]
     },
     "execution_count": 79,
     "metadata": {},
     "output_type": "execute_result"
    }
   ],
   "source": [
    "%reload_ext sql\n",
    "%sql sqlite:///FinalDB.db"
   ]
  },
  {
   "cell_type": "code",
   "execution_count": 80,
   "metadata": {
    "tags": []
   },
   "outputs": [
    {
     "name": "stdout",
     "output_type": "stream",
     "text": [
      " * sqlite:///FinalDB.db\n",
      "Done.\n"
     ]
    },
    {
     "data": {
      "text/html": [
       "<table>\n",
       "    <thead>\n",
       "        <tr>\n",
       "            <th>COMMUNITY_AREA_NAME</th>\n",
       "            <th>TOTAL_CRIMES</th>\n",
       "        </tr>\n",
       "    </thead>\n",
       "    <tbody>\n",
       "        <tr>\n",
       "            <td>Austin</td>\n",
       "            <td>43</td>\n",
       "        </tr>\n",
       "    </tbody>\n",
       "</table>"
      ],
      "text/plain": [
       "[('Austin', 43)]"
      ]
     },
     "execution_count": 80,
     "metadata": {},
     "output_type": "execute_result"
    }
   ],
   "source": [
    "%%sql\n",
    "SELECT CD.COMMUNITY_AREA_NAME, COUNT(*) as TOTAL_CRIMES\n",
    "FROM CHICAGO_CRIME_DATA CCD\n",
    "JOIN CENSUS_DATA CD ON CCD.COMMUNITY_AREA_NUMBER = CD.COMMUNITY_AREA_NUMBER\n",
    "GROUP BY CD.COMMUNITY_AREA_NAME\n",
    "ORDER BY TOTAL_CRIMES DESC\n",
    "LIMIT 1;"
   ]
  },
  {
   "cell_type": "markdown",
   "metadata": {},
   "source": [
    "## Author(s)\n",
    "\n",
    "<h4> Hima Vasudevan </h4>\n",
    "<h4> Rav Ahuja </h4>\n",
    "<h4> Ramesh Sannreddy </h4>\n",
    "\n",
    "## Contribtuor(s)\n",
    "\n",
    "<h4> Malika Singla </h4>\n",
    "<h4>Abhishek Gagneja</h4>\n",
    "\n",
    "## Change log\n",
    "\n",
    "| Date       | Version | Changed by        | Change Description                             |\n",
    "| ---------- | ------- | ----------------- | ---------------------------------------------- |\n",
    "|2023-10-18  | 2.6     | Abhishek Gagneja  | Modified instruction set |\n",
    "| 2022-03-04 | 2.5     | Lakshmi Holla     | Changed markdown.                   |\n",
    "| 2021-05-19 | 2.4     | Lakshmi Holla     | Updated the question                           |\n",
    "| 2021-04-30 | 2.3     | Malika Singla     | Updated the libraries                          |\n",
    "| 2021-01-15 | 2.2     | Rav Ahuja         | Removed problem 11 and fixed changelog         |\n",
    "| 2020-11-25 | 2.1     | Ramesh Sannareddy | Updated the problem statements, and datasets   |\n",
    "| 2020-09-05 | 2.0     | Malika Singla     | Moved lab to course repo in GitLab             |\n",
    "| 2018-07-18 | 1.0     | Rav Ahuja         | Several updates including loading instructions |\n",
    "| 2018-05-04 | 0.1     | Hima Vasudevan    | Created initial version                        |\n",
    "\n",
    "## <h3 align=\"center\"> © IBM Corporation 2023. All rights reserved. <h3/>\n"
   ]
  },
  {
   "cell_type": "code",
   "execution_count": null,
   "metadata": {},
   "outputs": [],
   "source": []
  }
 ],
 "metadata": {
  "kernelspec": {
   "display_name": "Python",
   "language": "python",
   "name": "conda-env-python-py"
  },
  "language_info": {
   "codemirror_mode": {
    "name": "ipython",
    "version": 3
   },
   "file_extension": ".py",
   "mimetype": "text/x-python",
   "name": "python",
   "nbconvert_exporter": "python",
   "pygments_lexer": "ipython3",
   "version": "3.7.12"
  }
 },
 "nbformat": 4,
 "nbformat_minor": 4
}
